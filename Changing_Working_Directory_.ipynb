{
  "nbformat": 4,
  "nbformat_minor": 0,
  "metadata": {
    "colab": {
      "name": "Changing Working Directory .ipynb",
      "provenance": [],
      "authorship_tag": "ABX9TyPex0iwEcx2oXH3umT/AtQV",
      "include_colab_link": true
    },
    "kernelspec": {
      "name": "python3",
      "display_name": "Python 3"
    },
    "language_info": {
      "name": "python"
    }
  },
  "cells": [
    {
      "cell_type": "markdown",
      "metadata": {
        "id": "view-in-github",
        "colab_type": "text"
      },
      "source": [
        "<a href=\"https://colab.research.google.com/github/sarthakkaushik/Helper-Codes/blob/main/Changing_Working_Directory_.ipynb\" target=\"_parent\"><img src=\"https://colab.research.google.com/assets/colab-badge.svg\" alt=\"Open In Colab\"/></a>"
      ]
    },
    {
      "cell_type": "code",
      "execution_count": null,
      "metadata": {
        "id": "fn7oyTF8JeiK"
      },
      "outputs": [],
      "source": [
        "#Changing Working Directory\n",
        "import os\n",
        " \n",
        "# Function to Get the current\n",
        "# working directory\n",
        "def current_path():\n",
        "    print(\"Current working directory before\")\n",
        "    print(os.getcwd())\n",
        "    print()\n",
        " \n",
        " \n",
        "# Driver's code\n",
        "# Printing CWD before\n",
        "\n",
        "\n",
        "current_path()\n",
        " \n",
        "# Changing the CWD\n",
        "data_path = '/gdrive/MyDrive/Machine Learning Datasets/'\n",
        "os.chdir(data_path)\n",
        " \n",
        "# Printing CWD after\n",
        "current_path()"
      ]
    }
  ]
}