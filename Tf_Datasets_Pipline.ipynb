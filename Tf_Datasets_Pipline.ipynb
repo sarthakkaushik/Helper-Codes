{
  "nbformat": 4,
  "nbformat_minor": 0,
  "metadata": {
    "colab": {
      "name": "Tf_Datasets_Pipline.ipynb",
      "provenance": [],
      "authorship_tag": "ABX9TyPu6Ob9GAcnIHDF1rTQIdxK",
      "include_colab_link": true
    },
    "kernelspec": {
      "name": "python3",
      "display_name": "Python 3"
    },
    "language_info": {
      "name": "python"
    }
  },
  "cells": [
    {
      "cell_type": "markdown",
      "metadata": {
        "id": "view-in-github",
        "colab_type": "text"
      },
      "source": [
        "<a href=\"https://colab.research.google.com/github/sarthakkaushik/Helper-Codes/blob/main/Tf_Datasets_Pipline.ipynb\" target=\"_parent\"><img src=\"https://colab.research.google.com/assets/colab-badge.svg\" alt=\"Open In Colab\"/></a>"
      ]
    },
    {
      "cell_type": "code",
      "execution_count": 1,
      "metadata": {
        "id": "VwaNz-j_9WVb"
      },
      "outputs": [],
      "source": [
        "import tensorflow as tf"
      ]
    },
    {
      "cell_type": "code",
      "source": [
        "sale_number=[21,22,-108,31,-1,32,34,31]"
      ],
      "metadata": {
        "id": "2GfiF_ry9g73"
      },
      "execution_count": 2,
      "outputs": []
    },
    {
      "cell_type": "code",
      "source": [
        "#Xreating tensorflow dataset from a list\n",
        "tf_dataset= tf.data.Dataset.from_tensor_slices(sale_number)\n",
        "print(tf_dataset)"
      ],
      "metadata": {
        "colab": {
          "base_uri": "https://localhost:8080/"
        },
        "id": "46Ei53bD9p3Q",
        "outputId": "9efe6e35-dd04-4f5f-9d4b-0e111dca15a1"
      },
      "execution_count": 3,
      "outputs": [
        {
          "output_type": "stream",
          "name": "stdout",
          "text": [
            "<TensorSliceDataset shapes: (), types: tf.int32>\n"
          ]
        }
      ]
    },
    {
      "cell_type": "code",
      "source": [
        "#Reading the data from tensorflow dataset\n",
        "\n",
        "for sales in tf_dataset:\n",
        "  print(sales)"
      ],
      "metadata": {
        "colab": {
          "base_uri": "https://localhost:8080/"
        },
        "id": "E-GrQf0Q9-DM",
        "outputId": "0364924e-1f21-4f03-9183-be1cc90f233a"
      },
      "execution_count": 4,
      "outputs": [
        {
          "output_type": "stream",
          "name": "stdout",
          "text": [
            "tf.Tensor(21, shape=(), dtype=int32)\n",
            "tf.Tensor(22, shape=(), dtype=int32)\n",
            "tf.Tensor(-108, shape=(), dtype=int32)\n",
            "tf.Tensor(31, shape=(), dtype=int32)\n",
            "tf.Tensor(-1, shape=(), dtype=int32)\n",
            "tf.Tensor(32, shape=(), dtype=int32)\n",
            "tf.Tensor(34, shape=(), dtype=int32)\n",
            "tf.Tensor(31, shape=(), dtype=int32)\n"
          ]
        }
      ]
    },
    {
      "cell_type": "code",
      "source": [
        "for sales in tf_dataset:\n",
        "  print(sales.numpy())"
      ],
      "metadata": {
        "colab": {
          "base_uri": "https://localhost:8080/"
        },
        "id": "XIgBVs-4-RA1",
        "outputId": "a6e53b0a-3d63-40c2-861f-07de2c4b48cc"
      },
      "execution_count": 5,
      "outputs": [
        {
          "output_type": "stream",
          "name": "stdout",
          "text": [
            "21\n",
            "22\n",
            "-108\n",
            "31\n",
            "-1\n",
            "32\n",
            "34\n",
            "31\n"
          ]
        }
      ]
    },
    {
      "cell_type": "code",
      "source": [
        "#OR\n",
        "for sales in tf_dataset.as_numpy_iterator():\n",
        "  print(sales)"
      ],
      "metadata": {
        "colab": {
          "base_uri": "https://localhost:8080/"
        },
        "id": "lGlgT24M-aLo",
        "outputId": "3d061855-711d-4bab-edd5-742096896bde"
      },
      "execution_count": 6,
      "outputs": [
        {
          "output_type": "stream",
          "name": "stdout",
          "text": [
            "21\n",
            "22\n",
            "-108\n",
            "31\n",
            "-1\n",
            "32\n",
            "34\n",
            "31\n"
          ]
        }
      ]
    },
    {
      "cell_type": "code",
      "source": [
        "#SUPPOSE I WANT TO SEE ONLY FIRT 3 ELEMENTS\n",
        "\n",
        "for sales in tf_dataset.take(3):\n",
        "  print(sales.numpy())"
      ],
      "metadata": {
        "colab": {
          "base_uri": "https://localhost:8080/"
        },
        "id": "4J27RRI9-nlB",
        "outputId": "d081e323-e53c-4b88-ae60-7c7b73d9c039"
      },
      "execution_count": 9,
      "outputs": [
        {
          "output_type": "stream",
          "name": "stdout",
          "text": [
            "21\n",
            "22\n",
            "-108\n"
          ]
        }
      ]
    },
    {
      "cell_type": "code",
      "source": [
        "# If I dont want any -ve number in my dataset then you can use FILTER function to filter the data\n",
        "tf_dataset=tf_dataset.filter(lambda x: x>0)\n",
        "for sales in tf_dataset.as_numpy_iterator():\n",
        "  print(sales)\n"
      ],
      "metadata": {
        "colab": {
          "base_uri": "https://localhost:8080/"
        },
        "id": "hmqQB_9G_NrX",
        "outputId": "a20da06e-584a-415f-a4a6-1963ecf22013"
      },
      "execution_count": 11,
      "outputs": [
        {
          "output_type": "stream",
          "name": "stdout",
          "text": [
            "21\n",
            "22\n",
            "31\n",
            "32\n",
            "34\n",
            "31\n"
          ]
        }
      ]
    },
    {
      "cell_type": "code",
      "source": [
        "#Suppose I want to perform some operation ( multip with 72) on each element fot the dataset--> I will use Map function for this\n",
        "tf_dataset=tf_dataset.map(lambda x: x*72)\n",
        "for sales in tf_dataset.as_numpy_iterator():\n",
        "  print(sales)\n"
      ],
      "metadata": {
        "colab": {
          "base_uri": "https://localhost:8080/"
        },
        "id": "bbLkKyLd_5IX",
        "outputId": "70255f67-419b-4bcc-f92c-047afbd46434"
      },
      "execution_count": 12,
      "outputs": [
        {
          "output_type": "stream",
          "name": "stdout",
          "text": [
            "1512\n",
            "1584\n",
            "2232\n",
            "2304\n",
            "2448\n",
            "2232\n"
          ]
        }
      ]
    },
    {
      "cell_type": "code",
      "source": [
        "# Suppose you want SHUFFLE ypur data \n",
        "# Refer this link - https://stackoverflow.com/questions/53514495/what-does-batch-repeat-and-shuffle-do-with-tensorflow-dataset\n",
        "tf_dataset=tf_dataset.shuffle(3)\n",
        "for sales in tf_dataset.as_numpy_iterator():\n",
        "  print(sales)"
      ],
      "metadata": {
        "colab": {
          "base_uri": "https://localhost:8080/"
        },
        "id": "hE4SJLl0AdB4",
        "outputId": "a89697c3-1230-4b61-a150-2a6865cb668f"
      },
      "execution_count": 13,
      "outputs": [
        {
          "output_type": "stream",
          "name": "stdout",
          "text": [
            "1512\n",
            "2232\n",
            "2304\n",
            "1584\n",
            "2232\n",
            "2448\n"
          ]
        }
      ]
    },
    {
      "cell_type": "code",
      "source": [
        "# BATCHING- Suppsoe you want to batch your data\n",
        "tf_dataset=tf_dataset.batch(3) # It will bacth the data in 3\n",
        "for sales in tf_dataset.as_numpy_iterator():\n",
        "  print(sales)"
      ],
      "metadata": {
        "colab": {
          "base_uri": "https://localhost:8080/"
        },
        "id": "v6PfFkCiBHL9",
        "outputId": "e5827122-345f-489e-c917-c3abc02d47c4"
      },
      "execution_count": 14,
      "outputs": [
        {
          "output_type": "stream",
          "name": "stdout",
          "text": [
            "[1512 2304 2232]\n",
            "[1584 2448 2232]\n"
          ]
        }
      ]
    },
    {
      "cell_type": "code",
      "source": [
        "# CHaining or combining all operation in single line\n",
        "tf_dataset= tf.data.Dataset.from_tensor_slices(sale_number)\n",
        "tf_dataset=tf_dataset.filter(lambda x:x>0).map(lambda y: y*72).shuffle(2).batch(3)\n",
        "for sales in tf_dataset.as_numpy_iterator():\n",
        "  print(sales)\n"
      ],
      "metadata": {
        "colab": {
          "base_uri": "https://localhost:8080/"
        },
        "id": "GziVztYQBevQ",
        "outputId": "5fe33d1b-7e45-4ca0-add8-278ec2600497"
      },
      "execution_count": 16,
      "outputs": [
        {
          "output_type": "stream",
          "name": "stdout",
          "text": [
            "[1584 1512 2232]\n",
            "[2448 2304 2232]\n"
          ]
        }
      ]
    },
    {
      "cell_type": "markdown",
      "source": [
        "# Loading Image datasets "
      ],
      "metadata": {
        "id": "hLx7HvUnCfSF"
      }
    },
    {
      "cell_type": "code",
      "source": [
        "# Code to mount google drive in case you are loading the data from your google drive\n",
        "from google.colab import drive\n",
        "drive.mount('/gdrive')\n",
        "%cd /gdrive"
      ],
      "metadata": {
        "colab": {
          "base_uri": "https://localhost:8080/"
        },
        "id": "iLNpiNNdCjBc",
        "outputId": "91cc8a43-c8e5-4e5e-b8ff-3ff67b9a10a9"
      },
      "execution_count": 17,
      "outputs": [
        {
          "output_type": "stream",
          "name": "stdout",
          "text": [
            "Mounted at /gdrive\n",
            "/gdrive\n"
          ]
        }
      ]
    },
    {
      "cell_type": "code",
      "source": [
        "#Changing Working Directory\n",
        "import os\n",
        " \n",
        "# Function to Get the current\n",
        "# working directory\n",
        "def current_path():\n",
        "    print(\"Current working directory before\")\n",
        "    print(os.getcwd())\n",
        "    print()\n",
        " \n",
        " \n",
        "# Driver's code\n",
        "# Printing CWD before\n",
        "\n",
        "\n",
        "current_path()\n",
        " \n",
        "# Changing the CWD\n",
        "data_path = '/gdrive/MyDrive/Machine Learning Datasets/Plant Village-Dataset'\n",
        "os.chdir(data_path)\n",
        " \n",
        "# Printing CWD after\n",
        "current_path()"
      ],
      "metadata": {
        "colab": {
          "base_uri": "https://localhost:8080/"
        },
        "id": "GeBzkhF4OK3o",
        "outputId": "14ed0cfe-6285-4ab1-8815-b05c4b4840d4"
      },
      "execution_count": 19,
      "outputs": [
        {
          "output_type": "stream",
          "name": "stdout",
          "text": [
            "Current working directory before\n",
            "/gdrive/My Drive/Machine Learning Datasets/Animie Dataset\n",
            "\n",
            "Current working directory before\n",
            "/gdrive/MyDrive/Machine Learning Datasets/Plant Village-Dataset\n",
            "\n"
          ]
        }
      ]
    },
    {
      "cell_type": "code",
      "source": [
        "\n",
        "# importing required modules\n",
        "from zipfile import ZipFile\n",
        "  \n",
        "# specifying the zip file name\n",
        "file_name = \"archive.zip\"\n",
        "  \n",
        "# opening the zip file in READ mode\n",
        "with ZipFile(file_name, 'r') as zip:\n",
        "    # printing all the contents of the zip file\n",
        "    # zip.printdir()\n",
        "  \n",
        "    # extracting all the files\n",
        "    print('Extracting all the files now...')\n",
        "    zip.extractall()\n",
        "    print('Done!')"
      ],
      "metadata": {
        "colab": {
          "base_uri": "https://localhost:8080/"
        },
        "id": "Z7qXqx18OPPs",
        "outputId": "4489b899-c2f3-43f1-bcf0-4d906bdfd041"
      },
      "execution_count": 20,
      "outputs": [
        {
          "output_type": "stream",
          "name": "stdout",
          "text": [
            "Extracting all the files now...\n",
            "Done!\n"
          ]
        }
      ]
    },
    {
      "cell_type": "code",
      "source": [
        "# Reading the IMAGE PATH using tfdataset\n",
        "image_ds= tf.data.Dataset.list_files('/gdrive/MyDrive/Machine Learning Datasets/Plant Village-Dataset/*/*/*',shuffle='False')\n",
        "\n",
        "for img in image_ds.take(10):\n",
        "  print(img.numpy())"
      ],
      "metadata": {
        "colab": {
          "base_uri": "https://localhost:8080/"
        },
        "id": "bNGywav9PBMz",
        "outputId": "d6a9b296-793b-4d58-aeb1-3dfd2ef57621"
      },
      "execution_count": 29,
      "outputs": [
        {
          "output_type": "stream",
          "name": "stdout",
          "text": [
            "b'/gdrive/MyDrive/Machine Learning Datasets/Plant Village-Dataset/PlantVillage/Tomato_Late_blight/73901132-ade5-4705-9760-c2adcb396cda___RS_Late.B 7065.JPG'\n",
            "b'/gdrive/MyDrive/Machine Learning Datasets/Plant Village-Dataset/PlantVillage/Tomato_Septoria_leaf_spot/253ddc99-8132-4710-bb89-eb83ab271abc___Matt.S_CG 0698.JPG'\n",
            "b'/gdrive/MyDrive/Machine Learning Datasets/Plant Village-Dataset/PlantVillage/Tomato_Leaf_Mold/fee0f163-ef11-48ce-9eff-5546b8ddae91___Crnl_L.Mold 6861.JPG'\n",
            "b'/gdrive/MyDrive/Machine Learning Datasets/Plant Village-Dataset/PlantVillage/Pepper__bell___Bacterial_spot/a3ba123a-0100-4f00-9166-9451474e5a8e___NREC_B.Spot 9229.JPG'\n",
            "b'/gdrive/MyDrive/Machine Learning Datasets/Plant Village-Dataset/PlantVillage/Pepper__bell___healthy/d81a234b-5eb3-42e3-b998-a7fb261178be___JR_HL 8007.JPG'\n",
            "b'/gdrive/MyDrive/Machine Learning Datasets/Plant Village-Dataset/PlantVillage/Tomato_Bacterial_spot/58674fc9-434d-4afc-879e-712a24831266___GCREC_Bact.Sp 2991.JPG'\n",
            "b'/gdrive/MyDrive/Machine Learning Datasets/Plant Village-Dataset/PlantVillage/Tomato__Target_Spot/5df31ae3-b89e-4089-8ce8-777b4ac91f6a___Com.G_TgS_FL 0837.JPG'\n",
            "b'/gdrive/MyDrive/Machine Learning Datasets/Plant Village-Dataset/PlantVillage/Tomato_Leaf_Mold/240a5b33-6071-4129-b017-1c7bba52a690___Crnl_L.Mold 6991.JPG'\n",
            "b'/gdrive/MyDrive/Machine Learning Datasets/Plant Village-Dataset/PlantVillage/Tomato_Early_blight/cab96269-77a2-47cd-bfdf-02ad2535293d___RS_Erly.B 8439.JPG'\n",
            "b'/gdrive/MyDrive/Machine Learning Datasets/Plant Village-Dataset/PlantVillage/Tomato__Tomato_mosaic_virus/0dae2780-43e7-40ac-ae45-95e5318c8f32___PSU_CG 2290.JPG'\n"
          ]
        }
      ]
    },
    {
      "cell_type": "code",
      "source": [
        ""
      ],
      "metadata": {
        "colab": {
          "base_uri": "https://localhost:8080/"
        },
        "id": "pj8lqnW0SS3G",
        "outputId": "2aa828b8-13e6-4dd3-fc08-944469b930de"
      },
      "execution_count": 30,
      "outputs": [
        {
          "output_type": "stream",
          "name": "stdout",
          "text": [
            "Total Images: 20639\n"
          ]
        }
      ]
    },
    {
      "cell_type": "markdown",
      "source": [
        "# Splitting the Data in Train & Test"
      ],
      "metadata": {
        "id": "hVpsmoiqT80U"
      }
    },
    {
      "cell_type": "code",
      "source": [
        "#Image count:-\n",
        "image_count=len(image_ds)\n",
        "print(\"Total Images:\",image_count)"
      ],
      "metadata": {
        "colab": {
          "base_uri": "https://localhost:8080/"
        },
        "id": "DnlSFoThUAG6",
        "outputId": "0f07f083-58a5-4de7-97c5-f482a854b405"
      },
      "execution_count": 87,
      "outputs": [
        {
          "output_type": "stream",
          "name": "stdout",
          "text": [
            "Total Images: 20639\n"
          ]
        }
      ]
    },
    {
      "cell_type": "code",
      "source": [
        "#For training lest take 80% of the data\n",
        "train_size=int(image_count*0.8)\n",
        "#hence my training dataset ds will be\n",
        "train_ds=image_ds.take(train_size)\n",
        "\n",
        "test_ds= image_ds.skip(train_size) # this will skip first 80% of the data"
      ],
      "metadata": {
        "id": "AsIDLjrUUHms"
      },
      "execution_count": 88,
      "outputs": []
    },
    {
      "cell_type": "code",
      "source": [
        "# Now feting the class label for of the image ie Y\n",
        "# if you see the patter , thre is symettry in the path of the file and hence we exploit that\n",
        "# eg path1= '/gdrive/MyDrive/Machine Learning Datasets/Plant Village-Dataset/PlantVillage/Tomato_Late_blight/73901132-ade5-4705-9760-c2adcb396cda___RS_Late.B 7065.JPG'\n",
        "s= '/gdrive/MyDrive/Machine Learning Datasets/Plant Village-Dataset/PlantVillage/Tomato_Late_blight/73901132-ade5-4705-9760-c2adcb396cda___RS_Late.B 7065.JPG'\n",
        "s.split('/')[-2]\n",
        "# great we can get the class label now\n",
        "# lets create a function for this\n",
        "import os\n",
        "def class_label(image_path):\n",
        "  #since we will get tensor input hence we will not use simple split function  \n",
        "  # return image.split('/')[-2]\n",
        "  return tf.strings.split(image_path,os.path.sep)[-2]\n",
        "\n",
        "# now ideally we should call this fucntion to extract our label\n",
        "\n",
        "def process_image(image_path):\n",
        "  label=class_label(image_path) # this will be y for corresponding x\n",
        "  img= tf.io.read_file(image_path) # this will actually read your image as tensor ie your x's\n",
        "  img= tf.image.decode_jpeg(img) # Since our file is in jpeg we need tof first decode it\n",
        "  img= tf.image.resize(img,[128,128]) # We resize the incoming image\n",
        "\n",
        "  return img, label # we are returing x and its corresponding y\n"
      ],
      "metadata": {
        "id": "_xRxFzkrSc67"
      },
      "execution_count": 89,
      "outputs": []
    },
    {
      "cell_type": "code",
      "source": [
        "for train in train_ds.take(4):\n",
        "  print(train.numpy())\n",
        "\n",
        "  # So this is also file path. Cool!\n",
        "# now we can call the class_label fucntion that we creaeted on traind_ds to get its corresponding y label\n",
        "for img,label in train_ds.take(2).map(process_image):\n",
        "  print('Image: ', img)\n",
        "  print('Label: ', label)\n",
        "\n",
        "\n",
        "\n"
      ],
      "metadata": {
        "colab": {
          "base_uri": "https://localhost:8080/"
        },
        "id": "QQj6_jqWVPje",
        "outputId": "e0db5d5f-33d9-4477-e417-f970263c3069"
      },
      "execution_count": 90,
      "outputs": [
        {
          "output_type": "stream",
          "name": "stdout",
          "text": [
            "b'/gdrive/MyDrive/Machine Learning Datasets/Plant Village-Dataset/PlantVillage/Tomato_Bacterial_spot/f968f18e-bc41-40bd-b838-f535be8afb93___GCREC_Bact.Sp 5744.JPG'\n",
            "b'/gdrive/MyDrive/Machine Learning Datasets/Plant Village-Dataset/PlantVillage/Tomato__Tomato_mosaic_virus/9c96bbe3-5599-4e31-996f-ae37d75872f5___PSU_CG 2215.JPG'\n",
            "b'/gdrive/MyDrive/Machine Learning Datasets/Plant Village-Dataset/PlantVillage/Tomato_Bacterial_spot/076ef17d-dfd3-4dbc-a351-a14eff1aecdb___UF.GRC_BS_Lab Leaf 8980.JPG'\n",
            "b'/gdrive/MyDrive/Machine Learning Datasets/Plant Village-Dataset/PlantVillage/Tomato_Bacterial_spot/6c1529dd-54cb-4e3d-924b-f7f05b6f9a4b___GCREC_Bact.Sp 3269.JPG'\n",
            "Image:  tf.Tensor(\n",
            "[[[160.   143.   136.  ]\n",
            "  [164.25 147.25 140.25]\n",
            "  [162.25 145.25 138.25]\n",
            "  ...\n",
            "  [171.75 154.75 147.75]\n",
            "  [171.5  154.5  147.5 ]\n",
            "  [169.5  152.5  145.5 ]]\n",
            "\n",
            " [[162.   145.   138.  ]\n",
            "  [160.25 143.25 136.25]\n",
            "  [161.25 144.25 137.25]\n",
            "  ...\n",
            "  [164.   147.   140.  ]\n",
            "  [184.25 167.25 160.25]\n",
            "  [178.75 161.75 154.75]]\n",
            "\n",
            " [[158.5  141.5  134.5 ]\n",
            "  [166.75 149.75 142.75]\n",
            "  [165.25 148.25 141.25]\n",
            "  ...\n",
            "  [172.75 155.75 148.75]\n",
            "  [173.   156.   149.  ]\n",
            "  [174.75 157.75 150.75]]\n",
            "\n",
            " ...\n",
            "\n",
            " [[140.75 121.75 114.75]\n",
            "  [147.25 128.25 121.25]\n",
            "  [156.   137.   130.  ]\n",
            "  ...\n",
            "  [142.75 123.75 116.75]\n",
            "  [141.25 122.25 115.25]\n",
            "  [150.   131.   124.  ]]\n",
            "\n",
            " [[143.5  124.5  117.5 ]\n",
            "  [153.5  134.5  127.5 ]\n",
            "  [141.75 122.75 115.75]\n",
            "  ...\n",
            "  [144.75 125.75 118.75]\n",
            "  [152.5  133.5  126.5 ]\n",
            "  [140.75 121.75 114.75]]\n",
            "\n",
            " [[157.25 138.25 131.25]\n",
            "  [157.25 138.25 131.25]\n",
            "  [144.75 125.75 118.75]\n",
            "  ...\n",
            "  [156.75 137.75 130.75]\n",
            "  [150.25 131.25 124.25]\n",
            "  [139.5  120.5  113.5 ]]], shape=(128, 128, 3), dtype=float32)\n",
            "Label:  tf.Tensor(b'Tomato_Late_blight', shape=(), dtype=string)\n",
            "Image:  tf.Tensor(\n",
            "[[[ 78.25  82.25 129.25]\n",
            "  [ 75.5   79.5  126.5 ]\n",
            "  [ 83.75  87.75 134.75]\n",
            "  ...\n",
            "  [128.   135.   179.  ]\n",
            "  [129.25 136.25 180.25]\n",
            "  [128.75 135.75 179.75]]\n",
            "\n",
            " [[ 86.25  90.25 135.25]\n",
            "  [ 82.    86.   131.  ]\n",
            "  [ 84.    88.   133.  ]\n",
            "  ...\n",
            "  [135.25 142.25 186.25]\n",
            "  [134.75 141.75 185.75]\n",
            "  [130.75 137.75 181.75]]\n",
            "\n",
            " [[ 88.5   92.5  137.5 ]\n",
            "  [ 82.5   86.5  131.5 ]\n",
            "  [ 83.    87.   132.  ]\n",
            "  ...\n",
            "  [133.   140.   184.  ]\n",
            "  [135.   142.   186.  ]\n",
            "  [134.25 141.25 185.25]]\n",
            "\n",
            " ...\n",
            "\n",
            " [[ 99.25 106.25 150.25]\n",
            "  [ 83.    90.   134.  ]\n",
            "  [ 96.25 103.25 147.25]\n",
            "  ...\n",
            "  [119.5  130.5  175.5 ]\n",
            "  [121.25 132.25 177.25]\n",
            "  [123.5  134.5  179.5 ]]\n",
            "\n",
            " [[ 91.5   98.5  142.5 ]\n",
            "  [ 94.5  101.5  145.5 ]\n",
            "  [ 96.5  103.5  147.5 ]\n",
            "  ...\n",
            "  [120.   131.   176.  ]\n",
            "  [122.   133.   178.  ]\n",
            "  [124.   135.   180.  ]]\n",
            "\n",
            " [[ 94.25 101.25 145.25]\n",
            "  [ 94.   101.   145.  ]\n",
            "  [ 92.    99.   143.  ]\n",
            "  ...\n",
            "  [120.   131.   176.  ]\n",
            "  [120.   131.   176.  ]\n",
            "  [121.25 132.25 177.25]]], shape=(128, 128, 3), dtype=float32)\n",
            "Label:  tf.Tensor(b'Tomato_Leaf_Mold', shape=(), dtype=string)\n"
          ]
        }
      ]
    },
    {
      "cell_type": "code",
      "source": [
        "train_ds= train_ds.map(process_image)\n",
        "test_ds=test_ds.map(process_image)\n"
      ],
      "metadata": {
        "id": "rj6U7Afca6Ff"
      },
      "execution_count": 91,
      "outputs": []
    },
    {
      "cell_type": "code",
      "source": [
        "train_ds.take(1)"
      ],
      "metadata": {
        "colab": {
          "base_uri": "https://localhost:8080/"
        },
        "id": "wygS-g5Wbfac",
        "outputId": "d41776d4-f747-40e2-adec-15cf6704e9ec"
      },
      "execution_count": 92,
      "outputs": [
        {
          "output_type": "execute_result",
          "data": {
            "text/plain": [
              "<TakeDataset shapes: ((128, 128, None), ()), types: (tf.float32, tf.string)>"
            ]
          },
          "metadata": {},
          "execution_count": 92
        }
      ]
    },
    {
      "cell_type": "code",
      "source": [
        "# Now we want to scale of image between 0 and 1\n",
        "\n",
        "def image_scale(image,label):\n",
        "  return image/255, label\n",
        "\n"
      ],
      "metadata": {
        "id": "rocMbcv_Y21f"
      },
      "execution_count": 93,
      "outputs": []
    },
    {
      "cell_type": "code",
      "source": [
        "train_ds= train_ds.map(image_scale)\n",
        "for image, label in train_ds.take(5):\n",
        "    print(\"****Image: \",image.numpy()[0][0])\n",
        "    print(\"****Label: \",label.numpy())\n"
      ],
      "metadata": {
        "colab": {
          "base_uri": "https://localhost:8080/"
        },
        "id": "o5z1trlfbFIg",
        "outputId": "327e5690-e159-479f-be7a-113d56b4dbfe"
      },
      "execution_count": 94,
      "outputs": [
        {
          "output_type": "stream",
          "name": "stdout",
          "text": [
            "****Image:  [0.01176471 0.01176471 0.01176471]\n",
            "****Label:  b'Tomato_Late_blight'\n",
            "****Image:  [0.66862744 0.5980392  0.5901961 ]\n",
            "****Label:  b'Tomato_Late_blight'\n",
            "****Image:  [0.62941176 0.59411764 0.6137255 ]\n",
            "****Label:  b'Pepper__bell___healthy'\n",
            "****Image:  [0.56960785 0.5421569  0.56960785]\n",
            "****Label:  b'Tomato__Tomato_YellowLeaf__Curl_Virus'\n",
            "****Image:  [0.73333335 0.70980394 0.7176471 ]\n",
            "****Label:  b'Pepper__bell___Bacterial_spot'\n"
          ]
        }
      ]
    },
    {
      "cell_type": "code",
      "source": [
        "# Using chain rule to do all the proceess in singline of code\n",
        "final_image_ds= image_ds.map(process_image).map(image_scale)\n",
        "for image, label in final_image_ds.take(5):\n",
        "    print(\"****Image: \",image.numpy()[0][0])\n",
        "    print(\"****Label: \",label.numpy())"
      ],
      "metadata": {
        "colab": {
          "base_uri": "https://localhost:8080/"
        },
        "id": "kZzubk82cENX",
        "outputId": "bb61d84d-0399-4e03-e1ef-d98515b8397f"
      },
      "execution_count": 97,
      "outputs": [
        {
          "output_type": "stream",
          "name": "stdout",
          "text": [
            "****Image:  [0.4 0.4 0.4]\n",
            "****Label:  b'Tomato_Late_blight'\n",
            "****Image:  [0.51862746 0.4990196  0.5147059 ]\n",
            "****Label:  b'Tomato_healthy'\n",
            "****Image:  [0.4598039 0.4245098 0.4362745]\n",
            "****Label:  b'Potato___Early_blight'\n",
            "****Image:  [0.41960785 0.4117647  0.43137255]\n",
            "****Label:  b'Tomato_Early_blight'\n",
            "****Image:  [0.6872549  0.66764706 0.75784314]\n",
            "****Label:  b'Pepper__bell___Bacterial_spot'\n"
          ]
        }
      ]
    },
    {
      "cell_type": "markdown",
      "source": [
        "# NEW / Other way to read and Process data"
      ],
      "metadata": {
        "id": "laRjWshLe4vW"
      }
    },
    {
      "cell_type": "code",
      "source": [
        "# data_path = '/gdrive/MyDrive/Machine Learning Datasets/Plant Village-Dataset/PlantVillage'\n",
        "BATCH_SIZE = 32\n",
        "IMAGE_SIZE = 256\n",
        "CHANNELS=3\n",
        "\n",
        "dataset_df= tf.keras.preprocessing.image_dataset_from_directory(\n",
        "    'PlantVillage',\n",
        "    shuffle=True,\n",
        "    image_size=(IMAGE_SIZE,IMAGE_SIZE),\n",
        "    batch_size= BATCH_SIZE\n",
        "    \n",
        ")"
      ],
      "metadata": {
        "colab": {
          "base_uri": "https://localhost:8080/"
        },
        "id": "HaG_PWx2e8eN",
        "outputId": "0076727e-80bf-436c-824d-d8fec27ac1aa"
      },
      "execution_count": 101,
      "outputs": [
        {
          "output_type": "stream",
          "name": "stdout",
          "text": [
            "Found 20638 files belonging to 15 classes.\n"
          ]
        }
      ]
    },
    {
      "cell_type": "code",
      "source": [
        "class_names=dataset_df.class_names\n",
        "class_names"
      ],
      "metadata": {
        "colab": {
          "base_uri": "https://localhost:8080/"
        },
        "id": "gc4jHujver_z",
        "outputId": "cc7215b6-11f1-4950-a82c-7c7d3aded98e"
      },
      "execution_count": 102,
      "outputs": [
        {
          "output_type": "execute_result",
          "data": {
            "text/plain": [
              "['Pepper__bell___Bacterial_spot',\n",
              " 'Pepper__bell___healthy',\n",
              " 'Potato___Early_blight',\n",
              " 'Potato___Late_blight',\n",
              " 'Potato___healthy',\n",
              " 'Tomato_Bacterial_spot',\n",
              " 'Tomato_Early_blight',\n",
              " 'Tomato_Late_blight',\n",
              " 'Tomato_Leaf_Mold',\n",
              " 'Tomato_Septoria_leaf_spot',\n",
              " 'Tomato_Spider_mites_Two_spotted_spider_mite',\n",
              " 'Tomato__Target_Spot',\n",
              " 'Tomato__Tomato_YellowLeaf__Curl_Virus',\n",
              " 'Tomato__Tomato_mosaic_virus',\n",
              " 'Tomato_healthy']"
            ]
          },
          "metadata": {},
          "execution_count": 102
        }
      ]
    },
    {
      "cell_type": "code",
      "source": [
        "for img,label in dataset_df.take(1):\n",
        "  print('Image shape with batch size: ', img.shape) # Here 32 is the size of the batch \n",
        "  print('Label: with numeric coding  ', label.numpy())"
      ],
      "metadata": {
        "colab": {
          "base_uri": "https://localhost:8080/"
        },
        "id": "vRZuKEQ0gzAz",
        "outputId": "d5d44842-3351-4fc0-8a56-d7df9c35a8fa"
      },
      "execution_count": 104,
      "outputs": [
        {
          "output_type": "stream",
          "name": "stdout",
          "text": [
            "Image shape with batch size:  (32, 256, 256, 3)\n",
            "Label: with numeric coding   [ 5  2 12  6  3  8  1  2  7 12 14  5  5  2 12 14  1 12  5 10  6  2 10  3\n",
            " 10 10 11 12  0 14  8  1]\n"
          ]
        }
      ]
    }
  ]
}